{
 "cells": [
  {
   "cell_type": "code",
   "execution_count": 1,
   "metadata": {
    "collapsed": true,
    "ExecuteTime": {
     "end_time": "2023-06-16T04:09:36.122904200Z",
     "start_time": "2023-06-16T04:09:35.357723300Z"
    }
   },
   "outputs": [],
   "source": [
    "import pandas as pd"
   ]
  },
  {
   "cell_type": "code",
   "execution_count": 2,
   "outputs": [],
   "source": [
    "df = pd.read_csv('../data/resume.csv')"
   ],
   "metadata": {
    "collapsed": false,
    "ExecuteTime": {
     "end_time": "2023-06-16T04:10:08.027560200Z",
     "start_time": "2023-06-16T04:10:08.007550Z"
    }
   }
  },
  {
   "cell_type": "code",
   "execution_count": 3,
   "outputs": [
    {
     "data": {
      "text/plain": "      job_ad_id job_city                   job_industry    job_type  \\\n0           384  Chicago                  manufacturing  supervisor   \n1           384  Chicago                  manufacturing  supervisor   \n2           384  Chicago                  manufacturing  supervisor   \n3           384  Chicago                  manufacturing  supervisor   \n4           385  Chicago                  other_service   secretary   \n...         ...      ...                            ...         ...   \n4865       1344   Boston  finance_insurance_real_estate   secretary   \n4866        382   Boston                  other_service     manager   \n4867        382   Boston                  other_service     manager   \n4868        382   Boston                  other_service     manager   \n4869        382   Boston                  other_service     manager   \n\n      job_fed_contractor  job_equal_opp_employer job_ownership  job_req_any  \\\n0                    NaN                       1       unknown            1   \n1                    NaN                       1       unknown            1   \n2                    NaN                       1       unknown            1   \n3                    NaN                       1       unknown            1   \n4                    0.0                       1     nonprofit            1   \n...                  ...                     ...           ...          ...   \n4865                 0.0                       0       private            1   \n4866                 NaN                       0       unknown            0   \n4867                 NaN                       0       unknown            0   \n4868                 NaN                       0       unknown            0   \n4869                 NaN                       0       unknown            0   \n\n      job_req_communication  job_req_education  ... honors  \\\n0                         0                  0  ...      0   \n1                         0                  0  ...      0   \n2                         0                  0  ...      0   \n3                         0                  0  ...      0   \n4                         0                  0  ...      0   \n...                     ...                ...  ...    ...   \n4865                      0                  0  ...      0   \n4866                      0                  0  ...      0   \n4867                      0                  0  ...      0   \n4868                      0                  0  ...      0   \n4869                      0                  0  ...      0   \n\n      worked_during_school  years_experience computer_skills  special_skills  \\\n0                        0                 6               1               0   \n1                        1                 6               1               0   \n2                        1                 6               1               0   \n3                        0                 6               1               1   \n4                        1                22               1               0   \n...                    ...               ...             ...             ...   \n4865                     0                 1               1               1   \n4866                     1                 6               1               0   \n4867                     1                 8               1               0   \n4868                     1                 2               1               0   \n4869                     0                 7               0               0   \n\n     volunteer military employment_holes  has_email_address  resume_quality  \n0            0        0                1                  0             low  \n1            1        1                0                  1            high  \n2            0        0                0                  0             low  \n3            1        0                1                  1            high  \n4            0        0                0                  1            high  \n...        ...      ...              ...                ...             ...  \n4865         0        0                1                  0             low  \n4866         0        0                0                  0             low  \n4867         1        0                0                  1            high  \n4868         1        1                0                  1            high  \n4869         0        0                1                  0             low  \n\n[4870 rows x 30 columns]",
      "text/html": "<div>\n<style scoped>\n    .dataframe tbody tr th:only-of-type {\n        vertical-align: middle;\n    }\n\n    .dataframe tbody tr th {\n        vertical-align: top;\n    }\n\n    .dataframe thead th {\n        text-align: right;\n    }\n</style>\n<table border=\"1\" class=\"dataframe\">\n  <thead>\n    <tr style=\"text-align: right;\">\n      <th></th>\n      <th>job_ad_id</th>\n      <th>job_city</th>\n      <th>job_industry</th>\n      <th>job_type</th>\n      <th>job_fed_contractor</th>\n      <th>job_equal_opp_employer</th>\n      <th>job_ownership</th>\n      <th>job_req_any</th>\n      <th>job_req_communication</th>\n      <th>job_req_education</th>\n      <th>...</th>\n      <th>honors</th>\n      <th>worked_during_school</th>\n      <th>years_experience</th>\n      <th>computer_skills</th>\n      <th>special_skills</th>\n      <th>volunteer</th>\n      <th>military</th>\n      <th>employment_holes</th>\n      <th>has_email_address</th>\n      <th>resume_quality</th>\n    </tr>\n  </thead>\n  <tbody>\n    <tr>\n      <th>0</th>\n      <td>384</td>\n      <td>Chicago</td>\n      <td>manufacturing</td>\n      <td>supervisor</td>\n      <td>NaN</td>\n      <td>1</td>\n      <td>unknown</td>\n      <td>1</td>\n      <td>0</td>\n      <td>0</td>\n      <td>...</td>\n      <td>0</td>\n      <td>0</td>\n      <td>6</td>\n      <td>1</td>\n      <td>0</td>\n      <td>0</td>\n      <td>0</td>\n      <td>1</td>\n      <td>0</td>\n      <td>low</td>\n    </tr>\n    <tr>\n      <th>1</th>\n      <td>384</td>\n      <td>Chicago</td>\n      <td>manufacturing</td>\n      <td>supervisor</td>\n      <td>NaN</td>\n      <td>1</td>\n      <td>unknown</td>\n      <td>1</td>\n      <td>0</td>\n      <td>0</td>\n      <td>...</td>\n      <td>0</td>\n      <td>1</td>\n      <td>6</td>\n      <td>1</td>\n      <td>0</td>\n      <td>1</td>\n      <td>1</td>\n      <td>0</td>\n      <td>1</td>\n      <td>high</td>\n    </tr>\n    <tr>\n      <th>2</th>\n      <td>384</td>\n      <td>Chicago</td>\n      <td>manufacturing</td>\n      <td>supervisor</td>\n      <td>NaN</td>\n      <td>1</td>\n      <td>unknown</td>\n      <td>1</td>\n      <td>0</td>\n      <td>0</td>\n      <td>...</td>\n      <td>0</td>\n      <td>1</td>\n      <td>6</td>\n      <td>1</td>\n      <td>0</td>\n      <td>0</td>\n      <td>0</td>\n      <td>0</td>\n      <td>0</td>\n      <td>low</td>\n    </tr>\n    <tr>\n      <th>3</th>\n      <td>384</td>\n      <td>Chicago</td>\n      <td>manufacturing</td>\n      <td>supervisor</td>\n      <td>NaN</td>\n      <td>1</td>\n      <td>unknown</td>\n      <td>1</td>\n      <td>0</td>\n      <td>0</td>\n      <td>...</td>\n      <td>0</td>\n      <td>0</td>\n      <td>6</td>\n      <td>1</td>\n      <td>1</td>\n      <td>1</td>\n      <td>0</td>\n      <td>1</td>\n      <td>1</td>\n      <td>high</td>\n    </tr>\n    <tr>\n      <th>4</th>\n      <td>385</td>\n      <td>Chicago</td>\n      <td>other_service</td>\n      <td>secretary</td>\n      <td>0.0</td>\n      <td>1</td>\n      <td>nonprofit</td>\n      <td>1</td>\n      <td>0</td>\n      <td>0</td>\n      <td>...</td>\n      <td>0</td>\n      <td>1</td>\n      <td>22</td>\n      <td>1</td>\n      <td>0</td>\n      <td>0</td>\n      <td>0</td>\n      <td>0</td>\n      <td>1</td>\n      <td>high</td>\n    </tr>\n    <tr>\n      <th>...</th>\n      <td>...</td>\n      <td>...</td>\n      <td>...</td>\n      <td>...</td>\n      <td>...</td>\n      <td>...</td>\n      <td>...</td>\n      <td>...</td>\n      <td>...</td>\n      <td>...</td>\n      <td>...</td>\n      <td>...</td>\n      <td>...</td>\n      <td>...</td>\n      <td>...</td>\n      <td>...</td>\n      <td>...</td>\n      <td>...</td>\n      <td>...</td>\n      <td>...</td>\n      <td>...</td>\n    </tr>\n    <tr>\n      <th>4865</th>\n      <td>1344</td>\n      <td>Boston</td>\n      <td>finance_insurance_real_estate</td>\n      <td>secretary</td>\n      <td>0.0</td>\n      <td>0</td>\n      <td>private</td>\n      <td>1</td>\n      <td>0</td>\n      <td>0</td>\n      <td>...</td>\n      <td>0</td>\n      <td>0</td>\n      <td>1</td>\n      <td>1</td>\n      <td>1</td>\n      <td>0</td>\n      <td>0</td>\n      <td>1</td>\n      <td>0</td>\n      <td>low</td>\n    </tr>\n    <tr>\n      <th>4866</th>\n      <td>382</td>\n      <td>Boston</td>\n      <td>other_service</td>\n      <td>manager</td>\n      <td>NaN</td>\n      <td>0</td>\n      <td>unknown</td>\n      <td>0</td>\n      <td>0</td>\n      <td>0</td>\n      <td>...</td>\n      <td>0</td>\n      <td>1</td>\n      <td>6</td>\n      <td>1</td>\n      <td>0</td>\n      <td>0</td>\n      <td>0</td>\n      <td>0</td>\n      <td>0</td>\n      <td>low</td>\n    </tr>\n    <tr>\n      <th>4867</th>\n      <td>382</td>\n      <td>Boston</td>\n      <td>other_service</td>\n      <td>manager</td>\n      <td>NaN</td>\n      <td>0</td>\n      <td>unknown</td>\n      <td>0</td>\n      <td>0</td>\n      <td>0</td>\n      <td>...</td>\n      <td>0</td>\n      <td>1</td>\n      <td>8</td>\n      <td>1</td>\n      <td>0</td>\n      <td>1</td>\n      <td>0</td>\n      <td>0</td>\n      <td>1</td>\n      <td>high</td>\n    </tr>\n    <tr>\n      <th>4868</th>\n      <td>382</td>\n      <td>Boston</td>\n      <td>other_service</td>\n      <td>manager</td>\n      <td>NaN</td>\n      <td>0</td>\n      <td>unknown</td>\n      <td>0</td>\n      <td>0</td>\n      <td>0</td>\n      <td>...</td>\n      <td>0</td>\n      <td>1</td>\n      <td>2</td>\n      <td>1</td>\n      <td>0</td>\n      <td>1</td>\n      <td>1</td>\n      <td>0</td>\n      <td>1</td>\n      <td>high</td>\n    </tr>\n    <tr>\n      <th>4869</th>\n      <td>382</td>\n      <td>Boston</td>\n      <td>other_service</td>\n      <td>manager</td>\n      <td>NaN</td>\n      <td>0</td>\n      <td>unknown</td>\n      <td>0</td>\n      <td>0</td>\n      <td>0</td>\n      <td>...</td>\n      <td>0</td>\n      <td>0</td>\n      <td>7</td>\n      <td>0</td>\n      <td>0</td>\n      <td>0</td>\n      <td>0</td>\n      <td>1</td>\n      <td>0</td>\n      <td>low</td>\n    </tr>\n  </tbody>\n</table>\n<p>4870 rows × 30 columns</p>\n</div>"
     },
     "execution_count": 3,
     "metadata": {},
     "output_type": "execute_result"
    }
   ],
   "source": [
    "df"
   ],
   "metadata": {
    "collapsed": false,
    "ExecuteTime": {
     "end_time": "2023-06-16T04:10:10.802059600Z",
     "start_time": "2023-06-16T04:10:10.785962Z"
    }
   }
  },
  {
   "cell_type": "code",
   "execution_count": 16,
   "outputs": [],
   "source": [
    "# Do applicants with higher levels of education tend to have higher resume quality?\n",
    "education_resume_quality = df.groupby('college_degree')[['resume_quality', 'college_degree']]"
   ],
   "metadata": {
    "collapsed": false,
    "ExecuteTime": {
     "end_time": "2023-06-16T04:15:42.277573100Z",
     "start_time": "2023-06-16T04:15:42.272573400Z"
    }
   }
  },
  {
   "cell_type": "code",
   "execution_count": 17,
   "outputs": [
    {
     "data": {
      "text/plain": "    resume_quality  college_degree\n0              low               1\n1             high               0\n2              low               1\n3             high               0\n4             high               0\n..             ...             ...\n328           high               0\n329           high               0\n330           high               0\n331           high               0\n332           high               0\n\n[200 rows x 2 columns]",
      "text/html": "<div>\n<style scoped>\n    .dataframe tbody tr th:only-of-type {\n        vertical-align: middle;\n    }\n\n    .dataframe tbody tr th {\n        vertical-align: top;\n    }\n\n    .dataframe thead th {\n        text-align: right;\n    }\n</style>\n<table border=\"1\" class=\"dataframe\">\n  <thead>\n    <tr style=\"text-align: right;\">\n      <th></th>\n      <th>resume_quality</th>\n      <th>college_degree</th>\n    </tr>\n  </thead>\n  <tbody>\n    <tr>\n      <th>0</th>\n      <td>low</td>\n      <td>1</td>\n    </tr>\n    <tr>\n      <th>1</th>\n      <td>high</td>\n      <td>0</td>\n    </tr>\n    <tr>\n      <th>2</th>\n      <td>low</td>\n      <td>1</td>\n    </tr>\n    <tr>\n      <th>3</th>\n      <td>high</td>\n      <td>0</td>\n    </tr>\n    <tr>\n      <th>4</th>\n      <td>high</td>\n      <td>0</td>\n    </tr>\n    <tr>\n      <th>...</th>\n      <td>...</td>\n      <td>...</td>\n    </tr>\n    <tr>\n      <th>328</th>\n      <td>high</td>\n      <td>0</td>\n    </tr>\n    <tr>\n      <th>329</th>\n      <td>high</td>\n      <td>0</td>\n    </tr>\n    <tr>\n      <th>330</th>\n      <td>high</td>\n      <td>0</td>\n    </tr>\n    <tr>\n      <th>331</th>\n      <td>high</td>\n      <td>0</td>\n    </tr>\n    <tr>\n      <th>332</th>\n      <td>high</td>\n      <td>0</td>\n    </tr>\n  </tbody>\n</table>\n<p>200 rows × 2 columns</p>\n</div>"
     },
     "execution_count": 17,
     "metadata": {},
     "output_type": "execute_result"
    }
   ],
   "source": [
    "education_resume_quality.head(100)"
   ],
   "metadata": {
    "collapsed": false,
    "ExecuteTime": {
     "end_time": "2023-06-16T04:15:44.726037800Z",
     "start_time": "2023-06-16T04:15:44.708396800Z"
    }
   }
  }
 ],
 "metadata": {
  "kernelspec": {
   "display_name": "Python 3",
   "language": "python",
   "name": "python3"
  },
  "language_info": {
   "codemirror_mode": {
    "name": "ipython",
    "version": 2
   },
   "file_extension": ".py",
   "mimetype": "text/x-python",
   "name": "python",
   "nbconvert_exporter": "python",
   "pygments_lexer": "ipython2",
   "version": "2.7.6"
  }
 },
 "nbformat": 4,
 "nbformat_minor": 0
}
